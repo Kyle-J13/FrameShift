{
  "nbformat": 4,
  "nbformat_minor": 0,
  "metadata": {
    "colab": {
      "provenance": []
    },
    "kernelspec": {
      "name": "python3",
      "display_name": "Python 3"
    },
    "language_info": {
      "name": "python"
    }
  },
  "cells": [
    {
      "cell_type": "code",
      "source": [
        "import numpy as np\n",
        "import matplotlib.pyplot as plt\n",
        "import seaborn as sns\n",
        "from sklearn.decomposition import PCA\n",
        "from sklearn.manifold import TSNE\n",
        "from sklearn.metrics.pairwise import cosine_similarity\n",
        "from pandas.plotting import parallel_coordinates\n",
        "import pandas as pd\n",
        "from sklearn.metrics import pairwise_distances"
      ],
      "metadata": {
        "id": "IkNNZKFI0kB9"
      },
      "execution_count": 3,
      "outputs": []
    },
    {
      "cell_type": "code",
      "source": [
        "class EmbeddingVisualizer:\n",
        "    def __init__(self, embeddings1, embeddings2, labels=None):\n",
        "        assert embeddings1.shape == embeddings2.shape, \"Embeddings must be same shape\"\n",
        "        self.emb1 = embeddings1\n",
        "        self.emb2 = embeddings2\n",
        "        if labels is not None:\n",
        "            self.labels = np.array(labels)\n",
        "        else:\n",
        "            self.labels = None\n",
        "\n",
        "    def plot_embeddings(self, method='pca', title=\"2D Embedding Scatterplot\"):\n",
        "        data = np.vstack([self.emb1, self.emb2])\n",
        "        tag = np.array([\"img1\"] * len(self.emb1) + [\"img2\"] * len(self.emb2))\n",
        "        if self.labels is not None:\n",
        "            label = np.concatenate([self.labels, self.labels])\n",
        "        else:\n",
        "            label = None\n",
        "\n",
        "        if method == 'pca':\n",
        "            reducer = PCA(n_components=2)\n",
        "        else:\n",
        "            reducer = TSNE(n_components=2, perplexity=30, init='pca', learning_rate='auto')\n",
        "\n",
        "        reduced = reducer.fit_transform(data)\n",
        "\n",
        "        plt.figure(figsize=(10, 8))\n",
        "        sns.scatterplot(x=reduced[:, 0], y=reduced[:, 1], hue=tag, style=label, palette='Set2', alpha=0.8)\n",
        "        plt.title(title)\n",
        "        plt.xlabel(f\"{method.upper()} Dim 1\")\n",
        "        plt.ylabel(f\"{method.upper()} Dim 2\")\n",
        "        plt.grid(True)\n",
        "        plt.show()\n",
        "\n",
        "    def heatmap(self, which='img1', metric='cosine'):\n",
        "        data = self.emb1 if which == 'img1' else self.emb2\n",
        "        if metric == 'cosine':\n",
        "            sim = cosine_similarity(data)\n",
        "        else:\n",
        "            sim = pairwise_distances(data, metric=metric)\n",
        "\n",
        "        plt.figure(figsize=(10, 8))\n",
        "        sns.heatmap(sim, cmap='viridis')\n",
        "        plt.title(f\"{metric.capitalize()} {which} Embedding Heatmap\")\n",
        "        plt.xlabel(\"Sample Index\")\n",
        "        plt.ylabel(\"Sample Index\")\n",
        "        plt.show()\n",
        "\n",
        "    def pcp(self, dims=5, which='img1'):\n",
        "        data = self.emb1 if which == 'img1' else self.emb2\n",
        "        df = pd.DataFrame(data[:, :dims])\n",
        "        if self.labels is not None:\n",
        "            df['label'] = self.labels\n",
        "        else:\n",
        "            df['label'] = [\"\"] * len(data)\n",
        "\n",
        "        plt.figure(figsize=(12, 6))\n",
        "        parallel_coordinates(df, 'label', colormap='Set2')\n",
        "        plt.title(f\"Parallel Coordinates Plot - {which}\")\n",
        "        plt.grid(True)\n",
        "        plt.show()\n",
        "\n",
        "    def pairwise_distance_plot(self, title=\"Pairwise L2 Distances\"):\n",
        "        dists = np.linalg.norm(self.emb1 - self.emb2, axis=1)\n",
        "        plt.figure(figsize=(10, 6))\n",
        "        if self.labels is not None:\n",
        "            sns.histplot(data=dists, hue=self.labels, bins=30, palette=\"Set1\", kde=True)\n",
        "        else:\n",
        "            plt.hist(dists, bins=30, alpha=0.7)\n",
        "        plt.title(title)\n",
        "        plt.xlabel(\"L2 Distance Between img1 & img2\")\n",
        "        plt.ylabel(\"Frequency\")\n",
        "        plt.grid(True)\n",
        "        plt.show()"
      ],
      "metadata": {
        "id": "ViN8JjRz1yr0"
      },
      "execution_count": null,
      "outputs": []
    }
  ]
}