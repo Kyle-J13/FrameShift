{
 "cells": [
  {
   "cell_type": "code",
   "execution_count": null,
   "id": "60e78da9",
   "metadata": {},
   "outputs": [],
   "source": [
    "# eval_baseline.ipynb\n",
    "# --------------------\n",
    "\n",
    "#  Load Trained Model:\n",
    "#  - Use baseline_model.py\n",
    "#  - Load model weights from a saved .pth checkpoint \n",
    "#  - Model set to eval mode and moved to CUDA \n",
    "#  - Shown below\n",
    "import torch\n",
    "from models.baseline_model import SiameseResNet\n",
    "\n",
    "# Set device\n",
    "device = torch.device(\"cuda\" if torch.cuda.is_available() else \"cpu\")\n",
    "\n",
    "# Initialize the model\n",
    "baseline_model = SiameseResNet(backbone='resnet18', pretrained=False)\n",
    "\n",
    "# Load the trained weights\n",
    "checkpoint_path = \"path/to/baseline_epoch10.pth\"\n",
    "baseline_model.load_state_dict(torch.load(checkpoint_path, map_location=device))\n",
    "\n",
    "# Move model to device and set to evaluation mode\n",
    "baseline_model.to(device)\n",
    "baseline_model.eval()\n",
    "\n",
    "#  Load Test Dataset:\n",
    "#  - Use ShapePairDataset from data/data_loader.py\n",
    "#  - Load test_pairs.jsonl and associated images from the test directory\n",
    "#  - Wrap in a DataLoader\n",
    "\n",
    "# Run Classification:\n",
    "#  - Forward pass both images through the model\n",
    "#  - Collect true labels, predicted labels, and probabilities\n",
    "\n",
    "# Classification Metrics:\n",
    "#  - Accuracy, Precision, Recall, F1 etc\n",
    "\n",
    "# Generate Visualizations:\n",
    "#  - matrix heatmap, ROC curve (optional), Histogram of predicted probabilities, visual display of misclassified pairs, etc"
   ]
  }
 ],
 "metadata": {
  "kernelspec": {
   "display_name": "ml-pytorch",
   "language": "python",
   "name": "python3"
  },
  "language_info": {
   "name": "python",
   "version": "3.12.9"
  }
 },
 "nbformat": 4,
 "nbformat_minor": 5
}
